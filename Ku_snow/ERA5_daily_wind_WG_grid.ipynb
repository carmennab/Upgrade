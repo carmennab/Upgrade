{
 "cells": [
  {
   "cell_type": "code",
   "execution_count": 1,
   "id": "78d384c3",
   "metadata": {},
   "outputs": [
    {
     "name": "stderr",
     "output_type": "stream",
     "text": [
      "/opt/anaconda3/lib/python3.8/site-packages/pyproj/crs/crs.py:131: FutureWarning: '+init=<authority>:<code>' syntax is deprecated. '<authority>:<code>' is the preferred initialization method. When making the change, be mindful of axis order changes: https://pyproj4.github.io/pyproj/stable/gotchas.html#axis-order-changes-in-proj-6\n",
      "  in_crs_string = _prepare_from_proj_string(in_crs_string)\n"
     ]
    }
   ],
   "source": [
    "### calculate daily ERA5 wind speed from u- and v-components and place onto Will's 160x160 grid"
   ]
  },
  {
   "cell_type": "code",
   "execution_count": null,
   "id": "ce1b0763",
   "metadata": {},
   "outputs": [],
   "source": [
    "import numpy as np\n",
    "import tqdm\n",
    "from netCDF4 import Dataset\n",
    "from math import sqrt\n",
    "from regrid import regrid\n",
    "import warnings\n",
    "warnings.filterwarnings(\"ignore\")"
   ]
  },
  {
   "cell_type": "code",
   "execution_count": 6,
   "id": "5e7081d8",
   "metadata": {},
   "outputs": [
    {
     "name": "stderr",
     "output_type": "stream",
     "text": [
      "100%|████████████████████████████████████████| 11/11 [2:41:58<00:00, 883.49s/it]\n"
     ]
    }
   ],
   "source": [
    "# creating numpy are with daily wind data on WG grid for 2010-2020\n",
    "\n",
    "datapath = '/Users/carmennab/PhD/OI_PolarSnow/ERA5/wind/'\n",
    "lats = np.load('/Users/carmennab/PhD/OI_PolarSnow/freeboard_daily_processed/Robbie_lat.npy')\n",
    "lons = np.load('/Users/carmennab/PhD/OI_PolarSnow/freeboard_daily_processed/Robbie_lon.npy')\n",
    "missing = np.full((153,160,160),np.nan)\n",
    "years = ['2010', '2011', '2012','2013', '2014', '2015', '2016', '2017', '2018', '2019', '2020']\n",
    "\n",
    "all_v = {}\n",
    "all_u = {}\n",
    "\n",
    "for year in tqdm.tqdm(years):\n",
    "    \n",
    "    # load ERA5 temperature data\n",
    "    file = datapath + year +'.nc'\n",
    "    data = Dataset(file,'r')\n",
    "    lon = data['longitude']\n",
    "    lat = data['latitude']\n",
    "    era5_lon,era5_lat = np.meshgrid(np.array(lon),np.array(lat))\n",
    "    wind_v = data['v10']\n",
    "    wind_u = data['u10']   \n",
    "           \n",
    "    # turn hourly data into daily data and regrid onto WG (160x160) grid        \n",
    "    v_daily = []\n",
    "    u_daily = []\n",
    "    speed_daily = []\n",
    "\n",
    "    for i in np.arange(0,wind_v.shape[0],24):\n",
    "\n",
    "        # v component\n",
    "\n",
    "        v_on_day = wind_v[i:i+24]\n",
    "\n",
    "        v_day_ave = np.nanmean(v_on_day,axis=0)\n",
    "        v_regrid_ave = regrid(v_day_ave.ravel(), era5_lon.ravel(), era5_lat.ravel(), lons, lats,'linear')\n",
    "\n",
    "\n",
    "        v_daily.append(v_regrid_ave)\n",
    "        \n",
    "        # u component\n",
    "\n",
    "        u_on_day = wind_v[i:i+24]\n",
    "\n",
    "        u_day_ave = np.nanmean(u_on_day,axis=0)\n",
    "\n",
    "        u_regrid_ave = regrid(u_day_ave.ravel(), era5_lon.ravel(), era5_lat.ravel(), lons, lats,'linear')\n",
    "\n",
    "        u_daily.append(u_regrid_ave)        \n",
    "        \n",
    "    # create full year list, with NaNs for days in May - September\n",
    "    year_v = np.concatenate((v_daily[:-92],missing,v_daily[-92:]),axis=0)\n",
    "    year_u = np.concatenate((u_daily[:-92],missing,u_daily[-92:]),axis=0)\n",
    "\n",
    "    all_v[year] = year_v\n",
    "    all_u[year] = year_u"
   ]
  },
  {
   "cell_type": "code",
   "execution_count": 7,
   "id": "faa553d2",
   "metadata": {},
   "outputs": [],
   "source": [
    "# create one array containing data for all years and save\n",
    "all_v_arr = np.concatenate((all_v['2010'], all_v['2011'], all_v['2012'], all_v['2013'], \n",
    "                               all_v['2014'], all_v['2015'], all_v['2016'], all_v['2017'], \n",
    "                               all_v['2018'], all_v['2019'], all_v['2020']),axis=0)\n",
    "# np.save('/Users/carmennab/PhD/OI_PolarSnow/ERA5/wind/all_v_2010-2020.npy',all_v_arr)\n",
    "all_u_arr = np.concatenate((all_u['2010'], all_u['2011'], all_u['2012'], all_u['2013'], \n",
    "                               all_u['2014'], all_u['2015'], all_u['2016'], all_u['2017'], \n",
    "                               all_u['2018'], all_u['2019'], all_u['2020']),axis=0)\n",
    "# np.save('/Users/carmennab/PhD/OI_PolarSnow/ERA5/wind/all_u_2010-2020.npy',all_u_arr)"
   ]
  },
  {
   "cell_type": "code",
   "execution_count": null,
   "id": "d4772d1f",
   "metadata": {},
   "outputs": [],
   "source": [
    "# to skip long calculation above:\n",
    "all_v_arr = np.load('/Users/carmennab/PhD/OI_PolarSnow/ERA5/wind/all_v_2010-2020.npy')\n",
    "all_u_arr = np.load('/Users/carmennab/PhD/OI_PolarSnow/ERA5/wind/all_u_2010-2020.npy')"
   ]
  },
  {
   "cell_type": "code",
   "execution_count": null,
   "id": "6803fd7e",
   "metadata": {},
   "outputs": [],
   "source": [
    "# calculate daily average wind speed and save array\n",
    "speed = np.full((len(all_v_arr),160,160),np.nan)\n",
    "for day in tqdm.tqdm(np.arange(0,len(all_v_arr))):\n",
    "    for i, j in itertools.product(np.arange(160),\n",
    "                                  np.arange(160)):\n",
    "        speed[day,i,j] = sqrt((all_v_arr[day,i,j]**2) + (all_u_arr[day,i,j]**2))\n",
    "# np.save('/Users/carmennab/PhD/OI_PolarSnow/ERA5/wind/speed_2010-2020.npy',speed)"
   ]
  },
  {
   "cell_type": "code",
   "execution_count": null,
   "id": "f3c9917d",
   "metadata": {},
   "outputs": [],
   "source": []
  }
 ],
 "metadata": {
  "kernelspec": {
   "display_name": "Python 3 (ipykernel)",
   "language": "python",
   "name": "python3"
  },
  "language_info": {
   "codemirror_mode": {
    "name": "ipython",
    "version": 3
   },
   "file_extension": ".py",
   "mimetype": "text/x-python",
   "name": "python",
   "nbconvert_exporter": "python",
   "pygments_lexer": "ipython3",
   "version": "3.8.12"
  }
 },
 "nbformat": 4,
 "nbformat_minor": 5
}
