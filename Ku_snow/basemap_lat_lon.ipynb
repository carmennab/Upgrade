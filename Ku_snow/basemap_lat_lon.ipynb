{
 "cells": [
  {
   "cell_type": "code",
   "execution_count": 1,
   "id": "b2c435e9",
   "metadata": {},
   "outputs": [],
   "source": [
    "### Code to convert Will's 160x160 grid to lat & lon"
   ]
  },
  {
   "cell_type": "code",
   "execution_count": null,
   "id": "f94fb29a",
   "metadata": {},
   "outputs": [],
   "source": [
    "from mpl_toolkits.basemap import Basemap\n",
    "import numpy as np"
   ]
  },
  {
   "cell_type": "code",
   "execution_count": 2,
   "id": "1b42a6d5",
   "metadata": {},
   "outputs": [],
   "source": [
    "x = np.load('/Users/carmennab/PhD/OI_PolarSnow/SnowModelLG/new_x_WG.npy') # load Will's grid, 160 x 160 array\n",
    "y = np.load('/Users/carmennab/PhD/OI_PolarSnow/SnowModelLG/new_y_WG.npy')"
   ]
  },
  {
   "cell_type": "code",
   "execution_count": 3,
   "id": "d5ca8a51",
   "metadata": {},
   "outputs": [],
   "source": [
    "m = Basemap(projection='npstere',boundinglat=60,lon_0=0,resolution='l')\n",
    "lon,lat = m(x,y,inverse=True)"
   ]
  },
  {
   "cell_type": "code",
   "execution_count": 4,
   "id": "c7ed4d4f",
   "metadata": {},
   "outputs": [],
   "source": [
    "np.save('/Users/carmennab/PhD/OI_PolarSnow/freeboard_daily_processed/Robbie_lon.npy',lon)\n",
    "np.save('/Users/carmennab/PhD/OI_PolarSnow/freeboard_daily_processed/Robbie_lat.npy',lat)"
   ]
  },
  {
   "cell_type": "code",
   "execution_count": null,
   "id": "733b0309",
   "metadata": {},
   "outputs": [],
   "source": []
  }
 ],
 "metadata": {
  "kernelspec": {
   "display_name": "Python 3 (ipykernel)",
   "language": "python",
   "name": "python3"
  },
  "language_info": {
   "codemirror_mode": {
    "name": "ipython",
    "version": 3
   },
   "file_extension": ".py",
   "mimetype": "text/x-python",
   "name": "python",
   "nbconvert_exporter": "python",
   "pygments_lexer": "ipython3",
   "version": "3.8.12"
  }
 },
 "nbformat": 4,
 "nbformat_minor": 5
}
