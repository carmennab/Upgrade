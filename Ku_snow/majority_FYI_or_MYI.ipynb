{
 "cells": [
  {
   "cell_type": "markdown",
   "id": "de940897",
   "metadata": {},
   "source": [
    "# code to work out major icetype per region per season"
   ]
  },
  {
   "cell_type": "code",
   "execution_count": 1,
   "id": "aedbfa2e",
   "metadata": {},
   "outputs": [
    {
     "name": "stderr",
     "output_type": "stream",
     "text": [
      "/opt/anaconda3/lib/python3.8/site-packages/pyproj/crs/crs.py:131: FutureWarning: '+init=<authority>:<code>' syntax is deprecated. '<authority>:<code>' is the preferred initialization method. When making the change, be mindful of axis order changes: https://pyproj4.github.io/pyproj/stable/gotchas.html#axis-order-changes-in-proj-6\n",
      "  in_crs_string = _prepare_from_proj_string(in_crs_string)\n"
     ]
    }
   ],
   "source": [
    "import matplotlib.pyplot as plt\n",
    "import numpy as np\n",
    "from mpl_toolkits.basemap import Basemap\n",
    "from scipy import stats\n",
    "from netCDF4 import Dataset\n",
    "from scipy.interpolate import griddata\n",
    "import datetime\n",
    "from regrid import regrid\n",
    "from scipy.stats import pearsonr\n",
    "import cartopy.crs as ccrs\n",
    "import cartopy\n",
    "import os\n",
    "import pickle\n",
    "\n",
    "%matplotlib inline\n",
    "\n",
    "import warnings\n",
    "warnings.filterwarnings(\"ignore\")"
   ]
  },
  {
   "cell_type": "markdown",
   "id": "2f3cd1c4",
   "metadata": {},
   "source": [
    "# download icetypes for each season"
   ]
  },
  {
   "cell_type": "code",
   "execution_count": 2,
   "id": "3cba17dd",
   "metadata": {},
   "outputs": [
    {
     "name": "stdout",
     "output_type": "stream",
     "text": [
      "2010-2011\n",
      "data loaded\n",
      "2011-2012\n",
      "data loaded\n",
      "2012-2013\n",
      "data loaded\n",
      "2013-2014\n",
      "data loaded\n",
      "2014-2015\n",
      "data loaded\n",
      "2015-2016\n",
      "data loaded\n",
      "2016-2017\n",
      "data loaded\n",
      "2017-2018\n",
      "data loaded\n",
      "2018-2019\n",
      "data loaded\n",
      "2019-2020\n",
      "data loaded\n",
      "2020-2021\n",
      "data loaded\n"
     ]
    }
   ],
   "source": [
    "datapath = '/Users/carmennab/PhD/OI_PolarSnow/freeboard_daily_processed'\n",
    "seasons = ['2010-2011','2011-2012','2012-2013','2013-2014','2014-2015','2015-2016','2016-2017','2017-2018','2018-2019',\n",
    "          '2019-2020','2020-2021']\n",
    "\n",
    "grid_res = 50\n",
    "dX = 160\n",
    "dY = 160\n",
    "m = Basemap(projection='npstere',boundinglat=60,lon_0=0,resolution='l',round=True)\n",
    "x = np.load(datapath+'/x_'+str(grid_res)+'km.npy')\n",
    "y = np.load(datapath+'/y_'+str(grid_res)+'km.npy')\n",
    "\n",
    "def download(date):\n",
    "    datapath = '/Users/carmennab/PhD/OI_PolarSnow/freeboard_daily_processed'\n",
    "    date_split = list(date)\n",
    "    year = date_split[0]+date_split[1]+date_split[2]+date_split[3]\n",
    "    month = date_split[4]+date_split[5]\n",
    "    import shutil\n",
    "    import urllib.request as request\n",
    "    from contextlib import closing\n",
    "    with closing(request.urlopen('ftp://osisaf.met.no//archive/ice/type/'+year+'/'+month+'//ice_type_nh_polstere-100_multi_'+date+'1200.nc')) as r:\n",
    "        with open(datapath+'/icetype/ice_type_nh_polstere-100_multi_'+date+'1200.nc', 'wb') as f:\n",
    "            shutil.copyfileobj(r, f)\n",
    "\n",
    "def icetype():\n",
    "    datapath1 = datapath + '/CS2_CPOM'\n",
    "    if os.path.exists(datapath+'/icetype/icetype_Oct'+season.split('-')[0]+'_Apr'+season.split('-')[1]+'_'+season+'.npy')==False:\n",
    "        if os.path.exists(datapath+'/icetype')==False:\n",
    "            os.mkdir(datapath+'/icetype')\n",
    "        f = open(datapath1+'/dailyFB_'+str(grid_res)+'km_'+season+'_season.pkl','rb')\n",
    "\n",
    "        FB_all = pickle.load(f)\n",
    "        FB_FYI = np.zeros((dX,dY,len(FB_all)))*np.nan\n",
    "        FB_MYI = np.zeros((dX,dY,len(FB_all)))*np.nan\n",
    "        icetype_grid = np.zeros((dX,dY,len(FB_all)))*np.nan\n",
    "        FB_dates = []\n",
    "        k = 0\n",
    "        for key in FB_all: #key is a date, so looping through each day for which we have gridded CS2 obs in this season\n",
    "            print('Downloading OSI-SAF icetype: ',key)\n",
    "            download(key)\n",
    "            FB_dates.append(key)\n",
    "            try:\n",
    "                FB = FB_all[key]\n",
    "            except:\n",
    "                print('KeyError')\n",
    "            fbFYI = np.zeros((dX,dY))*np.nan\n",
    "            fbMYI = np.zeros((dX,dY))*np.nan\n",
    "            icetype = Dataset(datapath+'/icetype/ice_type_nh_polstere-100_multi_'+str(key)+'1200.nc')\n",
    "            icetype_lon = np.array(icetype['lon'])\n",
    "            icetype_lat = np.array(icetype['lat'])\n",
    "            icetype_x,icetype_y = m(icetype_lon,icetype_lat)\n",
    "            itype = np.array(icetype['ice_type']).astype('float32')[0,:,:]\n",
    "            itype[itype>3] = np.nan\n",
    "            itype[itype<2] = np.nan\n",
    "            icetype_grid[:,:,k] = griddata((icetype_x.ravel(),icetype_y.ravel()),itype.ravel(),(x[:-1,:-1],y[:-1,:-1]),'nearest')\n",
    "            k += 1\n",
    "        np.save(datapath+'/icetype/icetype_Oct'+season.split('-')[0]+'_Apr'+season.split('-')[1]+'_'+season+'.npy',icetype_grid)\n",
    "    else:\n",
    "        pass\n",
    "\n",
    "for season in seasons:\n",
    "    print(season)\n",
    "    try:\n",
    "        icetype()\n",
    "        print('data loaded')\n",
    "    except:\n",
    "        print('no data this year')"
   ]
  },
  {
   "cell_type": "markdown",
   "id": "c901ef0c",
   "metadata": {},
   "source": [
    "# work out major icetype per season per region"
   ]
  },
  {
   "cell_type": "code",
   "execution_count": 3,
   "id": "2865d86f",
   "metadata": {},
   "outputs": [
    {
     "name": "stdout",
     "output_type": "stream",
     "text": [
      "major icetype for full season:\n",
      "2010-2011\n",
      "Kara FYI\n",
      "Laptev FYI\n",
      "E. Siberian FYI\n",
      "Chukchi FYI\n",
      "Beaufort FYI\n",
      "Can. Arch FYI\n",
      "Central Arctic MYI\n",
      "2011-2012\n",
      "Kara FYI\n",
      "Laptev FYI\n",
      "E. Siberian FYI\n",
      "Chukchi FYI\n",
      "Beaufort FYI\n",
      "Can. Arch FYI\n",
      "Central Arctic MYI\n",
      "2012-2013\n",
      "Kara FYI\n",
      "Laptev FYI\n",
      "E. Siberian FYI\n",
      "Chukchi FYI\n",
      "Beaufort FYI\n",
      "Can. Arch FYI\n",
      "Central Arctic MYI\n",
      "2013-2014\n",
      "Kara FYI\n",
      "Laptev FYI\n",
      "E. Siberian FYI\n",
      "Chukchi FYI\n",
      "Beaufort MYI\n",
      "Can. Arch FYI\n",
      "Central Arctic MYI\n",
      "2014-2015\n",
      "Kara FYI\n",
      "Laptev FYI\n",
      "E. Siberian FYI\n",
      "Chukchi FYI\n",
      "Beaufort MYI\n",
      "Can. Arch FYI\n",
      "Central Arctic MYI\n",
      "2015-2016\n",
      "Kara FYI\n",
      "Laptev FYI\n",
      "E. Siberian FYI\n",
      "Chukchi FYI\n",
      "Beaufort FYI\n",
      "Can. Arch FYI\n",
      "Central Arctic MYI\n",
      "2016-2017\n",
      "Kara FYI\n",
      "Laptev FYI\n",
      "E. Siberian FYI\n",
      "Chukchi FYI\n",
      "Beaufort FYI\n",
      "Can. Arch FYI\n",
      "Central Arctic MYI\n",
      "2017-2018\n",
      "Kara FYI\n",
      "Laptev FYI\n",
      "E. Siberian FYI\n",
      "Chukchi FYI\n",
      "Beaufort FYI\n",
      "Can. Arch FYI\n",
      "Central Arctic MYI\n",
      "2018-2019\n",
      "Kara FYI\n",
      "Laptev FYI\n",
      "E. Siberian FYI\n",
      "Chukchi FYI\n",
      "Beaufort FYI\n",
      "Can. Arch FYI\n",
      "Central Arctic MYI\n",
      "2019-2020\n",
      "Kara FYI\n",
      "Laptev FYI\n",
      "E. Siberian FYI\n",
      "Chukchi FYI\n",
      "Beaufort FYI\n",
      "Can. Arch FYI\n",
      "Central Arctic MYI\n",
      "2020-2021\n",
      "Kara FYI\n",
      "Laptev FYI\n",
      "E. Siberian FYI\n",
      "Chukchi FYI\n",
      "Beaufort FYI\n",
      "Can. Arch FYI\n",
      "Central Arctic MYI\n"
     ]
    }
   ],
   "source": [
    "datapath = '/Users/carmennab/PhD/OI_PolarSnow/freeboard_daily_processed/'\n",
    "seasons = ['2010-2011','2011-2012','2012-2013','2013-2014','2014-2015','2015-2016','2016-2017','2017-2018','2018-2019',\n",
    "          '2019-2020','2020-2021']\n",
    "\n",
    "grid_res = 50\n",
    "dX = 160\n",
    "dY = 160\n",
    "m = Basemap(projection='npstere',boundinglat=60,lon_0=0,resolution='l',round=True)\n",
    "x = np.load(datapath+'/x_'+str(grid_res)+'km.npy')\n",
    "y = np.load(datapath+'/y_'+str(grid_res)+'km.npy')\n",
    "\n",
    "WG_lat = np.load('/Users/carmennab/PhD/OI_PolarSnow/freeboard_daily_processed/Robbie_lat.npy')\n",
    "WG_lon = np.load('/Users/carmennab/PhD/OI_PolarSnow/freeboard_daily_processed/Robbie_lon.npy')\n",
    "nsidc_lat = np.fromfile('/Users/carmennab/PhD/OI_PolarSnow/freeboard_daily_processed/psn25lats_v3.dat',dtype='<i4').reshape(448,304)/100000\n",
    "nsidc_lon = np.fromfile('/Users/carmennab/PhD/OI_PolarSnow/freeboard_daily_processed/psn25lons_v3.dat',dtype='<i4').reshape(448,304)/100000\n",
    "file = Dataset('/Users/carmennab/PhD/OI_PolarSnow/freeboard_daily_processed/NSIDC_regions_Masks-2.nc')\n",
    "mask = np.array(file['mask']).transpose(1,0).astype('float32')\n",
    "mask_values = regrid(mask, nsidc_lon, nsidc_lat, WG_lon, WG_lat,'nearest')\n",
    "#lats = np.load(datapath+'Robbie_lat.npy')\n",
    "\n",
    "datapath = '/Users/carmennab/PhD/OI_PolarSnow/freeboard_daily_processed/icetype/'\n",
    "print('major icetype for full season:')\n",
    "\n",
    "for season in seasons:\n",
    "    print(season)\n",
    "    try:\n",
    "        icetype_grid = np.load(datapath+'icetype_Oct'+season.split('-')[0]+'_Apr'+season.split('-')[1]+'_'+season+'.npy')\n",
    "\n",
    "        for regs, reg_name in zip([[9], [10], [11], [12], [13], [14], [15]], \n",
    "                      ['Kara', 'Laptev', 'E. Siberian', 'Chukchi','Beaufort', 'Can. Arch', 'Central Arctic']):\n",
    "            ice_mean = []\n",
    "            reg = np.where((mask_values==regs))\n",
    "            for i in range(181):\n",
    "                icetype_grid_c = icetype_grid.copy()\n",
    "                icetype_grid_c[np.where((WG_lat[:-1,:-1]>88))] = np.nan\n",
    "                mean = np.nanmean(icetype_grid_c[:,:,i][reg])\n",
    "                ice_mean.append(mean)\n",
    "\n",
    "            reg_mean = np.nanmean(ice_mean)\n",
    "            if reg_mean<2.5:\n",
    "                print(reg_name,'FYI')\n",
    "            if reg_mean>2.5:\n",
    "                print(reg_name,'MYI')\n",
    "\n",
    "    except:\n",
    "        pass"
   ]
  },
  {
   "cell_type": "code",
   "execution_count": 9,
   "id": "6bfe8ac0",
   "metadata": {},
   "outputs": [
    {
     "data": {
      "text/plain": [
       "Text(0.5, 1.0, 'Correlation between SM-LG and CS2_CPOM interpolated freeboards smoothed anomalies for full 2010-2020 period')"
      ]
     },
     "execution_count": 9,
     "metadata": {},
     "output_type": "execute_result"
    },
    {
     "data": {
      "image/png": "[encoded data removed]",
      "text/plain": [
       "<Figure size 720x576 with 2 Axes>"
      ]
     },
     "metadata": {
      "needs_background": "light"
     },
     "output_type": "display_data"
    }
   ],
   "source": [
    "# cartopy\n",
    "fig = plt.figure(figsize=(10, 8))\n",
    "ax = plt.axes(projection=ccrs.NorthPolarStereo())\n",
    "ax.add_feature(cartopy.feature.LAND, edgecolor='black',zorder=1)\n",
    "ax.set_extent([-180, 180, 90, 65], ccrs.PlateCarree())\n",
    "p_map = ax.pcolormesh(WG_lon,WG_lat,mask_values,cmap='RdBu',vmin=1,vmax=20,transform=ccrs.PlateCarree())\n",
    "a = fig.colorbar(p_map)\n",
    "a.set_label('region number')"
   ]
  },
  {
   "cell_type": "markdown",
   "id": "b1a217c5",
   "metadata": {},
   "source": [
    "9 = Kara, \n",
    "10 = Laptev, \n",
    "11 = E. Siberian, \n",
    "12 = Chukchi, \n",
    "13 = Beaufort, \n",
    "14 = Can. Arch., \n",
    "15 = Central Arctic"
   ]
  },
  {
   "cell_type": "code",
   "execution_count": null,
   "id": "9d07f85d",
   "metadata": {},
   "outputs": [],
   "source": []
  }
 ],
 "metadata": {
  "kernelspec": {
   "display_name": "Python 3 (ipykernel)",
   "language": "python",
   "name": "python3"
  },
  "language_info": {
   "codemirror_mode": {
    "name": "ipython",
    "version": 3
   },
   "file_extension": ".py",
   "mimetype": "text/x-python",
   "name": "python",
   "nbconvert_exporter": "python",
   "pygments_lexer": "ipython3",
   "version": "3.8.12"
  }
 },
 "nbformat": 4,
 "nbformat_minor": 5
}
