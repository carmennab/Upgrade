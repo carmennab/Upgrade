{
 "cells": [
  {
   "cell_type": "code",
   "execution_count": 24,
   "id": "f940356e",
   "metadata": {},
   "outputs": [],
   "source": [
    "### create NETCDF data files to publish with paper"
   ]
  },
  {
   "cell_type": "code",
   "execution_count": null,
   "id": "148f143b",
   "metadata": {},
   "outputs": [],
   "source": [
    "import numpy as np\n",
    "import datetime\n",
    "import tqdm\n",
    "import os\n",
    "import netCDF4 as nc4\n",
    "import xarray as xr\n",
    "import warnings\n",
    "warnings.filterwarnings(\"ignore\")"
   ]
  },
  {
   "cell_type": "code",
   "execution_count": 25,
   "id": "97ce5aa5",
   "metadata": {},
   "outputs": [
    {
     "name": "stderr",
     "output_type": "stream",
     "text": [
      "100%|██████████████████████████████████████| 4018/4018 [00:15<00:00, 255.61it/s]\n",
      "100%|██████████████████████████████████████| 4018/4018 [00:15<00:00, 261.01it/s]\n",
      "100%|██████████████████████████████████████| 4018/4018 [00:15<00:00, 256.70it/s]\n",
      "100%|██████████████████████████████████████| 4018/4018 [00:15<00:00, 261.38it/s]\n"
     ]
    }
   ],
   "source": [
    "# create dates list\n",
    "days = np.arange(0,4018)\n",
    "dates = [datetime.date(2010,1,1)+datetime.timedelta(days=np.int(days)) for days in days]\n",
    "\n",
    "# load Will's lons & lats, 160 x 160 array\n",
    "lats = np.load('/Users/carmennab/PhD/OI_PolarSnow/freeboard_daily_processed/Robbie_lat.npy')\n",
    "lons = np.load('/Users/carmennab/PhD/OI_PolarSnow/freeboard_daily_processed/Robbie_lon.npy')\n",
    "\n",
    "# import freeboard data\n",
    "sats = ['CS2_CPOM','CS2_LARM']\n",
    "datapath = '/Users/carmennab/PhD/OI_PolarSnow/freeboard_daily_interpolated/'\n",
    "folders = ['CS2_CPOM/','Bristol_LARM/CS2/freeboard/']\n",
    "\n",
    "CS2_CPOM_fb = np.full((len(days),160,160), np.nan)\n",
    "CS2_LARM_fb = np.full((len(days),160,160), np.nan)\n",
    "\n",
    "dics = [CS2_CPOM_fb, CS2_LARM_fb]\n",
    "\n",
    "for sat, folder, dic in zip (sats,folders, dics):\n",
    "    location = datapath + folder\n",
    "    for day in tqdm.tqdm(days):\n",
    "        date = dates[day].strftime('%Y%m%d')\n",
    "        for f in os.listdir(location):\n",
    "            if 'FB_interp' in f:\n",
    "                if date in f:\n",
    "                    dic[day] = np.load(location+str(f)) \n",
    "                else: \n",
    "                    pass\n",
    "\n",
    "# import uncertainty data\n",
    "CS2_CPOM_unc = np.full((len(days),160,160), np.nan)\n",
    "CS2_LARM_unc = np.full((len(days),160,160), np.nan)\n",
    "\n",
    "dics = [CS2_CPOM_unc, CS2_LARM_unc]\n",
    "\n",
    "for sat, folder, dic in zip (sats,folders, dics):\n",
    "    location = datapath + folder\n",
    "    for day in tqdm.tqdm(days):\n",
    "        date = dates[day].strftime('%Y%m%d')\n",
    "        for f in os.listdir(location):\n",
    "            if 'FB_uncertainty' in f:\n",
    "                if date in f:\n",
    "                    dic[day] = np.load(location+str(f)) \n",
    "                else: \n",
    "                    pass"
   ]
  },
  {
   "cell_type": "code",
   "execution_count": 26,
   "id": "6fcab264",
   "metadata": {},
   "outputs": [],
   "source": [
    "# create CS2_CPOM NETCDF\n",
    "data_vars = {'Radar Freeboard':(['t','x','y'],CS2_CPOM_fb),\n",
    "            'Uncertainty':(['t','x','y'],CS2_CPOM_unc)}\n",
    "ds = xr.Dataset(data_vars = data_vars,\n",
    "                coords={'lon':(['x','y'],lons),\n",
    "                        'lat':(['x','y'],lats),\n",
    "                         'day':(['t'],days)}    )\n",
    "ds.to_netcdf(f'/Users/carmennab/PhD/OI_PolarSnow/freeboard_daily_interpolated/CS2_CPOM/CS2_CPOM.nc','w')"
   ]
  },
  {
   "cell_type": "code",
   "execution_count": 32,
   "id": "d8361557",
   "metadata": {},
   "outputs": [],
   "source": [
    "# create CS2_LARM NETCDF\n",
    "data_vars = {'Radar Freeboard':(['t','x','y'],CS2_LARM_fb),\n",
    "            'Uncertainty':(['t','x','y'],CS2_LARM_unc)}\n",
    "ds = xr.Dataset(data_vars = data_vars,\n",
    "                coords={'lon':(['x','y'],lons),\n",
    "                        'lat':(['x','y'],lats),\n",
    "                         'date':(['t'],days)}    )\n",
    "ds.to_netcdf(f'/Users/carmennab/PhD/OI_PolarSnow/freeboard_daily_interpolated/Bristol_LARM/CS2/freeboard/CS2_LARM.nc','w')"
   ]
  },
  {
   "cell_type": "code",
   "execution_count": null,
   "id": "07abafb7",
   "metadata": {},
   "outputs": [],
   "source": []
  }
 ],
 "metadata": {
  "kernelspec": {
   "display_name": "Python 3 (ipykernel)",
   "language": "python",
   "name": "python3"
  },
  "language_info": {
   "codemirror_mode": {
    "name": "ipython",
    "version": 3
   },
   "file_extension": ".py",
   "mimetype": "text/x-python",
   "name": "python",
   "nbconvert_exporter": "python",
   "pygments_lexer": "ipython3",
   "version": "3.8.12"
  }
 },
 "nbformat": 4,
 "nbformat_minor": 5
}
