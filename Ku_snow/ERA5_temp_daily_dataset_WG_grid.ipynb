{
 "cells": [
  {
   "cell_type": "code",
   "execution_count": null,
   "id": "d49cfe0e",
   "metadata": {},
   "outputs": [],
   "source": [
    "### calculate daily average air temperature from hourly average and place onto Will's 160x160 grid"
   ]
  },
  {
   "cell_type": "code",
   "execution_count": 14,
   "id": "90a1ee59",
   "metadata": {},
   "outputs": [],
   "source": [
    "import numpy as np\n",
    "from scipy.stats import pearsonr\n",
    "import datetime\n",
    "import pandas as pd\n",
    "import glob\n",
    "import matplotlib.pyplot as plt\n",
    "from matplotlib import gridspec\n",
    "import datetime\n",
    "from regrid import regrid\n",
    "import seaborn as sns\n",
    "import os\n",
    "import tqdm\n",
    "from netCDF4 import Dataset\n",
    "import warnings\n",
    "warnings.filterwarnings(\"ignore\")"
   ]
  },
  {
   "cell_type": "code",
   "execution_count": 58,
   "id": "4070c4d7",
   "metadata": {},
   "outputs": [
    {
     "name": "stderr",
     "output_type": "stream",
     "text": [
      "100%|████████████████████████████████████████| 11/11 [1:22:48<00:00, 451.70s/it]\n"
     ]
    }
   ],
   "source": [
    "# creating numpy are with daily temperature data on WG grid for 2010-2020\n",
    "\n",
    "datapath = '/Users/carmennab/PhD/OI_PolarSnow/ERA5/temp/'\n",
    "lats = np.load('/Users/carmennab/PhD/OI_PolarSnow/freeboard_daily_processed/Robbie_lat.npy')\n",
    "lons = np.load('/Users/carmennab/PhD/OI_PolarSnow/freeboard_daily_processed/Robbie_lon.npy')\n",
    "era5_lon,era5_lat = np.meshgrid(np.array(lon),np.array(lat))\n",
    "missing = np.full((153,160,160),np.nan)\n",
    "years = ['2010', '2011', '2012','2013', '2014', '2015', '2016', '2017', '2018', '2019', '2020']\n",
    "\n",
    "all_temps = {}\n",
    "\n",
    "for year in tqdm.tqdm(years):\n",
    "    \n",
    "    # load ERA5 temperature data\n",
    "    file = datapath + year +'.nc'\n",
    "    data = Dataset(file,'r')\n",
    "    lon = data['longitude']\n",
    "    lat = data['latitude']\n",
    "    temp = data['t2m']\n",
    "    #hours = data['time']    \n",
    "           \n",
    "    # turn hourly data into daily data and regrid onto WG (160x160) grid        \n",
    "    temp_daily = []\n",
    "    #dates_daily = []\n",
    "\n",
    "    for i in np.arange(0,temp.shape[0],24):\n",
    "\n",
    "        #dates_daily.append(dates[i].strftime('%Y%m%d'))\n",
    "\n",
    "        temps_on_day = temp[i:i+24]\n",
    "\n",
    "        day_ave = np.nanmean(temps_on_day,axis=0)\n",
    "\n",
    "        regrid_ave = regrid(day_ave.ravel(), era5_lon.ravel(), era5_lat.ravel(), lons, lats,'linear')\n",
    "\n",
    "        temp_daily.append(regrid_ave)\n",
    "    \n",
    "    # create full year list, with NaNs for days in May - September\n",
    "    year_temps = np.concatenate((temp_daily[:-92],missing,temp_daily[-92:]),axis=0)\n",
    "\n",
    "    all_temps[year] = year_temps\n"
   ]
  },
  {
   "cell_type": "code",
   "execution_count": 59,
   "id": "c01e3a34",
   "metadata": {},
   "outputs": [],
   "source": [
    "# create one array containing data for all years and save\n",
    "all_temps_arr = np.concatenate((all_temps['2010'], all_temps['2011'], all_temps['2012'], all_temps['2013'], \n",
    "                               all_temps['2014'], all_temps['2015'], all_temps['2016'], all_temps['2017'], \n",
    "                               all_temps['2018'], all_temps['2019'], all_temps['2020']),axis=0)\n",
    "# np.save('/Users/carmennab/PhD/OI_PolarSnow/ERA5/temp/2010-2020.npy',all_temps_arr)"
   ]
  },
  {
   "cell_type": "code",
   "execution_count": null,
   "id": "8ebeed11",
   "metadata": {},
   "outputs": [],
   "source": []
  }
 ],
 "metadata": {
  "kernelspec": {
   "display_name": "Python 3 (ipykernel)",
   "language": "python",
   "name": "python3"
  },
  "language_info": {
   "codemirror_mode": {
    "name": "ipython",
    "version": 3
   },
   "file_extension": ".py",
   "mimetype": "text/x-python",
   "name": "python",
   "nbconvert_exporter": "python",
   "pygments_lexer": "ipython3",
   "version": "3.8.12"
  }
 },
 "nbformat": 4,
 "nbformat_minor": 5
}
