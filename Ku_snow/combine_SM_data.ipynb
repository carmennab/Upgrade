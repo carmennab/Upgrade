{
 "cells": [
  {
   "cell_type": "markdown",
   "id": "01d8a40f",
   "metadata": {},
   "source": [
    "# Creating SnowModel-LG combined numpy array 1 Jan 2010 - 31 Dec 2020"
   ]
  },
  {
   "cell_type": "code",
   "execution_count": 1,
   "id": "e6bc4af9",
   "metadata": {},
   "outputs": [
    {
     "name": "stderr",
     "output_type": "stream",
     "text": [
      "/opt/anaconda3/lib/python3.8/site-packages/pyproj/crs/crs.py:131: FutureWarning: '+init=<authority>:<code>' syntax is deprecated. '<authority>:<code>' is the preferred initialization method. When making the change, be mindful of axis order changes: https://pyproj4.github.io/pyproj/stable/gotchas.html#axis-order-changes-in-proj-6\n",
      "  in_crs_string = _prepare_from_proj_string(in_crs_string)\n"
     ]
    }
   ],
   "source": [
    "import numpy as np\n",
    "from netCDF4 import Dataset\n",
    "from mpl_toolkits.basemap import Basemap\n",
    "import datetime\n",
    "from scipy.interpolate import griddata\n",
    "import tqdm\n",
    "from regrid import regrid\n",
    "import matplotlib.pyplot as plt\n",
    "import warnings\n",
    "warnings.filterwarnings(\"ignore\")"
   ]
  },
  {
   "cell_type": "code",
   "execution_count": 2,
   "id": "1d786efd",
   "metadata": {},
   "outputs": [],
   "source": [
    "#import lon, lat & snod values from original SM dataset\n",
    "datapath = '/Users/carmennab/PhD/OI_PolarSnow/SnowModelLG/'\n",
    "file = datapath+'SM_snod_MERRA2_01Aug1980-31Jul2018_v01.nc'\n",
    "data = Dataset(file,'r')\n",
    "\n",
    "lon = data['x']\n",
    "lat = data['y']\n",
    "snod = data['snod'][-3134:] # 1/1/2010 - 31/12/2017 only\n",
    "\n",
    "snod_orig = np.array(snod) ; lon = np.array(lon) ; lat = np.array(lat)\n",
    "snod_orig[snod_orig==-9999] = np.nan\n",
    "\n",
    "#convert coordinates \n",
    "m = Basemap(projection='npstere',boundinglat=60,lon_0=0, resolution='l',round=True)\n",
    "mymask = Dataset(datapath+'mask.nc')\n",
    "ease_lons = np.array(mymask['lon'])\n",
    "ease_lats = np.array(mymask['lat'])\n",
    "x,y = m(ease_lons,ease_lats)\n",
    "\n",
    "# create list of dates\n",
    "hours = np.array(data['time'])\n",
    "datess = [datetime.date(1,1,1)+datetime.timedelta(hours=np.int(hours))-datetime.timedelta(days=2) for hours in hours]\n",
    "dates_orig = datess[-3134:]\n",
    "\n",
    "#import lon, lat & snod values from SM extension\n",
    "datapath = '/Users/carmennab/PhD/OI_PolarSnow/SnowModelLG/'\n",
    "file = datapath+'snod_ext.nc'\n",
    "data = Dataset(file,'r')\n",
    "snod_ext = data['snod']\n",
    "\n",
    "snod_ext = np.array(snod_ext)\n",
    "snod_ext[snod_ext==-9999] = np.nan\n",
    "days = np.arange(0,731)\n",
    "dates_ext = [datetime.date(2018,8,1)+datetime.timedelta(days=np.int(days)) for days in days]\n",
    "\n",
    "#create empty array for 1 Aug 2020 onwards\n",
    "snod_missing = []\n",
    "snow_missings = np.zeros((361,361))\n",
    "snow_missings[:] = np.nan\n",
    "for i in range(153):\n",
    "    snod_missing.append(snow_missings)\n",
    "days = np.arange(0,153)\n",
    "dates_missing = [datetime.date(2020,8,1)+datetime.timedelta(days=np.int(days)) for days in days]\n",
    "snod_missing = np.array(snod_missing)\n",
    "snod_missing.shape\n",
    "\n",
    "# combine SM_orig and SM_ext and SM_missing\n",
    "snow = np.concatenate((snod_orig,snod_ext,snod_missing),axis=0)\n",
    "dates = [] \n",
    "dates.append(dates_orig)\n",
    "dates.append(dates_ext)\n",
    "dates.append(dates_missing)\n",
    "\n",
    "#save to file that we can easily load and use\n",
    "#np.save('/Users/carmennab/PhD/OI_PolarSnow/SnowModelLG/SM_snod_combined.npy',snow)"
   ]
  },
  {
   "cell_type": "code",
   "execution_count": 3,
   "id": "b126f9a6",
   "metadata": {},
   "outputs": [],
   "source": [
    "# change Will's 161 x 161 grid to 160 x 160\n",
    "#new_x_WG = np.full((160,160),np.nan)\n",
    "#import itertools\n",
    "#for i, j in tqdm.tqdm(itertools.product(np.arange(160),\n",
    "#                              np.arange(160))):\n",
    "#    new_x_WG[i,j]= np.mean(x_WG[i:i+1,j:j+1])\n",
    "#    \n",
    "#new_y_WG = np.full((160,160),np.nan)   \n",
    "#for i, j in tqdm.tqdm(itertools.product(np.arange(160),\n",
    "#                          np.arange(160))):\n",
    "#    new_y_WG[i,j]= np.mean(y_WG[i:i+1,j:j+1])\n",
    "#np.save('/Users/carmennab/PhD/OI_PolarSnow/SnowModelLG/new_x_WG.npy',new_x_WG)\n",
    "#np.save('/Users/carmennab/PhD/OI_PolarSnow/SnowModelLG/new_y_WG.npy',new_y_WG)"
   ]
  },
  {
   "cell_type": "code",
   "execution_count": 4,
   "id": "3f979415",
   "metadata": {},
   "outputs": [],
   "source": [
    "#regrid onto will grid and save\n",
    "snow = np.load('/Users/carmennab/PhD/OI_PolarSnow/SnowModelLG/SM_snod_combined.npy')\n",
    "mymask = Dataset('/Users/carmennab/PhD/OI_PolarSnow/SnowModelLG/mask.nc')\n",
    "SM_lon = np.array(mymask['lon'])\n",
    "SM_lat = np.array(mymask['lat'])\n",
    "lats = np.load('/Users/carmennab/PhD/OI_PolarSnow/freeboard_daily_processed/Robbie_lat.npy')\n",
    "lons = np.load('/Users/carmennab/PhD/OI_PolarSnow/freeboard_daily_processed/Robbie_lon.npy')"
   ]
  },
  {
   "cell_type": "code",
   "execution_count": 5,
   "id": "053a93e0",
   "metadata": {},
   "outputs": [
    {
     "name": "stderr",
     "output_type": "stream",
     "text": [
      "100%|███████████████████████████████████████| 4018/4018 [08:56<00:00,  7.48it/s]\n"
     ]
    }
   ],
   "source": [
    "days = np.arange(0,4018)\n",
    "snows = np.full((4018,160,160), np.nan)\n",
    "for day in tqdm.tqdm(days):\n",
    "    snod = snow[day]\n",
    "    SM_new = regrid(snod, SM_lon, SM_lat, lons, lats,'nearest')\n",
    "    snows[day] = SM_new\n",
    "np.save('/Users/carmennab/PhD/OI_PolarSnow/SnowModelLG/SM_snod_combined_regridded.npy',snows)"
   ]
  },
  {
   "cell_type": "code",
   "execution_count": null,
   "id": "6216be4e",
   "metadata": {},
   "outputs": [],
   "source": []
  }
 ],
 "metadata": {
  "kernelspec": {
   "display_name": "Python 3 (ipykernel)",
   "language": "python",
   "name": "python3"
  },
  "language_info": {
   "codemirror_mode": {
    "name": "ipython",
    "version": 3
   },
   "file_extension": ".py",
   "mimetype": "text/x-python",
   "name": "python",
   "nbconvert_exporter": "python",
   "pygments_lexer": "ipython3",
   "version": "3.8.12"
  }
 },
 "nbformat": 4,
 "nbformat_minor": 5
}
